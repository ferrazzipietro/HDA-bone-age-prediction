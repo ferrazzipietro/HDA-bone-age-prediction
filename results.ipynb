{
 "cells": [
  {
   "cell_type": "code",
   "execution_count": 3,
   "outputs": [],
   "source": [
    "import os\n",
    "\n",
    "import tensorflow as tf\n",
    "\n",
    "import pandas as pd\n",
    "import numpy as np"
   ],
   "metadata": {
    "collapsed": false
   }
  },
  {
   "cell_type": "code",
   "execution_count": 4,
   "outputs": [],
   "source": [
    "def data_append(X, ages, sexes, image_path, age, sex):\n",
    "    X.append(image_path)\n",
    "    ages.append(age)\n",
    "    sexes.append(sex)\n",
    "    return X, ages, sexes"
   ],
   "metadata": {
    "collapsed": false
   }
  },
  {
   "cell_type": "code",
   "execution_count": 5,
   "outputs": [],
   "source": [
    "def load_dataset(full_path, truth):\n",
    "    X_test = []\n",
    "    age_test = []\n",
    "    sex_test = []\n",
    "\n",
    "    image_names = os.listdir(full_path)\n",
    "    for i, image_name in enumerate(image_names):\n",
    "        if not image_name.endswith('.png'):\n",
    "            continue\n",
    "\n",
    "        id = int(image_name[:-4])\n",
    "\n",
    "        if not (id in truth['Case ID'].to_list()):\n",
    "            continue\n",
    "        idx = (truth['Case ID'] == id)\n",
    "        age_of_this = int(truth['Ground truth bone age (months)'][idx])\n",
    "        sex_of_this = (truth['Sex'][idx]).values[0]\n",
    "        if sex_of_this=='M':\n",
    "            sex_of_this = True\n",
    "        if  sex_of_this=='F':\n",
    "            sex_of_this = False\n",
    "        X_test, age_test, sex_test = data_append(X_test, age_test, sex_test, os.path.join(full_path, image_name), age_of_this, sex_of_this)\n",
    "\n",
    "    return X_test, age_test, sex_test"
   ],
   "metadata": {
    "collapsed": false
   }
  },
  {
   "cell_type": "code",
   "execution_count": 6,
   "outputs": [],
   "source": [
    "unprocessed_path = os.path.join(os.getcwd(), 'data/test/cut')\n",
    "processed_path = os.path.join(os.getcwd(), 'data/test/reshaped')\n",
    "test_truth = pd.read_excel('./data/test/test.xlsx')\n",
    "X_unprocessed, age_unprocessed, sex_unprocessed = load_dataset(unprocessed_path, test_truth)\n",
    "X_processed, age_processed, sex_processed = load_dataset(processed_path, test_truth)\n",
    "\n",
    "test_features = pd.read_csv('./data/test/maxes.csv')\n",
    "test_features['image'] = test_features['image'].str[:-4].astype(int)\n",
    "\n",
    "unprocessed_df = pd.DataFrame({'age':age_unprocessed, 'sex':sex_unprocessed})\n",
    "processed_df = pd.merge(test_features, test_truth, left_on='image', right_on='Case ID')\n",
    "processed_df = processed_df.drop(['image'], axis=1).rename({'Sex': 'sex', 'Ground truth bone age (months)': 'age'}, axis=1)\n",
    "processed_df['sex'] = processed_df['sex'].replace({'M': 1, 'F': 0})"
   ],
   "metadata": {
    "collapsed": false
   }
  },
  {
   "cell_type": "code",
   "execution_count": 7,
   "outputs": [],
   "source": [
    "def process_image(path_df, label):\n",
    "    path, df = path_df\n",
    "    # Get the image\n",
    "    img = tf.io.read_file(path)\n",
    "    # Decode the PNG\n",
    "    img = tf.image.decode_png(img)\n",
    "    # Cast image to float32\n",
    "    img = tf.cast(img, tf.float32)\n",
    "    # Normalize image\n",
    "    img = img / 255.0\n",
    "\n",
    "    return (img, df), label"
   ],
   "metadata": {
    "collapsed": false
   }
  },
  {
   "cell_type": "code",
   "execution_count": 8,
   "outputs": [],
   "source": [
    "def create_dataset_images(img_paths, second_branch_df, ages, batch_size):\n",
    "    second_branch_df = second_branch_df.astype('float32')\n",
    "    dataset = tf.data.Dataset.from_tensor_slices(((img_paths, second_branch_df), ages)).map(process_image)\n",
    "\n",
    "    dataset = dataset.batch(batch_size=batch_size)\n",
    "    dataset = dataset.prefetch(buffer_size=1)\n",
    "\n",
    "    return dataset"
   ],
   "metadata": {
    "collapsed": false
   }
  },
  {
   "cell_type": "code",
   "execution_count": 23,
   "outputs": [],
   "source": [
    "batch_size = 32\n",
    "unprocessed_dataset = create_dataset_images(img_paths=X_unprocessed,\n",
    "                                     second_branch_df=unprocessed_df['sex'],\n",
    "                                     ages=unprocessed_df['age'],\n",
    "                                     batch_size=batch_size)\n",
    "processed_dataset = create_dataset_images(img_paths=X_processed,\n",
    "                                          second_branch_df=processed_df['sex'],\n",
    "                                          ages=processed_df['age'],\n",
    "                                          batch_size=batch_size)\n",
    "features_dataset = create_dataset_images(img_paths=X_processed,\n",
    "                                          second_branch_df=processed_df.drop(['age', 'Case ID'], axis=1),\n",
    "                                          ages=processed_df['age'],\n",
    "                                          batch_size=batch_size)"
   ],
   "metadata": {
    "collapsed": false
   }
  },
  {
   "cell_type": "code",
   "execution_count": 10,
   "metadata": {
    "collapsed": true
   },
   "outputs": [],
   "source": [
    "unprocessed_model = tf.keras.models.load_model('./models/unprocessed_50_epochs')"
   ]
  },
  {
   "cell_type": "code",
   "execution_count": 11,
   "outputs": [
    {
     "name": "stdout",
     "output_type": "stream",
     "text": [
      "7/7 [==============================] - 12s 312ms/step\n"
     ]
    },
    {
     "data": {
      "text/plain": "     Model ouput  Output Age  Real Age     Error  Error Months  \\\n0       0.722045  144.408936     0.840 -0.117955    -23.591059   \n1       0.830717  166.143387     0.845 -0.014283     -2.856606   \n2       0.242140   48.427952     0.365 -0.122860    -24.572049   \n3       0.589275  117.854942     0.760 -0.170725    -34.145059   \n4       0.610914  122.182755     0.675 -0.064086    -12.817249   \n..           ...         ...       ...       ...           ...   \n195     0.569395  113.878944     0.665 -0.095605    -19.121058   \n196     0.727276  145.455170     0.645  0.082276     16.455170   \n197     0.779735  155.947021     0.835 -0.055265    -11.052982   \n198     0.765628  153.125534     0.675  0.090628     18.125536   \n199     0.624072  124.814392     0.590  0.034072      6.814391   \n\n     Absolute Error  Squared Error  \n0          0.117955       0.013913  \n1          0.014283       0.000204  \n2          0.122860       0.015095  \n3          0.170725       0.029147  \n4          0.064086       0.004107  \n..              ...            ...  \n195        0.095605       0.009140  \n196        0.082276       0.006769  \n197        0.055265       0.003054  \n198        0.090628       0.008213  \n199        0.034072       0.001161  \n\n[200 rows x 7 columns]",
      "text/html": "<div>\n<style scoped>\n    .dataframe tbody tr th:only-of-type {\n        vertical-align: middle;\n    }\n\n    .dataframe tbody tr th {\n        vertical-align: top;\n    }\n\n    .dataframe thead th {\n        text-align: right;\n    }\n</style>\n<table border=\"1\" class=\"dataframe\">\n  <thead>\n    <tr style=\"text-align: right;\">\n      <th></th>\n      <th>Model ouput</th>\n      <th>Output Age</th>\n      <th>Real Age</th>\n      <th>Error</th>\n      <th>Error Months</th>\n      <th>Absolute Error</th>\n      <th>Squared Error</th>\n    </tr>\n  </thead>\n  <tbody>\n    <tr>\n      <th>0</th>\n      <td>0.722045</td>\n      <td>144.408936</td>\n      <td>0.840</td>\n      <td>-0.117955</td>\n      <td>-23.591059</td>\n      <td>0.117955</td>\n      <td>0.013913</td>\n    </tr>\n    <tr>\n      <th>1</th>\n      <td>0.830717</td>\n      <td>166.143387</td>\n      <td>0.845</td>\n      <td>-0.014283</td>\n      <td>-2.856606</td>\n      <td>0.014283</td>\n      <td>0.000204</td>\n    </tr>\n    <tr>\n      <th>2</th>\n      <td>0.242140</td>\n      <td>48.427952</td>\n      <td>0.365</td>\n      <td>-0.122860</td>\n      <td>-24.572049</td>\n      <td>0.122860</td>\n      <td>0.015095</td>\n    </tr>\n    <tr>\n      <th>3</th>\n      <td>0.589275</td>\n      <td>117.854942</td>\n      <td>0.760</td>\n      <td>-0.170725</td>\n      <td>-34.145059</td>\n      <td>0.170725</td>\n      <td>0.029147</td>\n    </tr>\n    <tr>\n      <th>4</th>\n      <td>0.610914</td>\n      <td>122.182755</td>\n      <td>0.675</td>\n      <td>-0.064086</td>\n      <td>-12.817249</td>\n      <td>0.064086</td>\n      <td>0.004107</td>\n    </tr>\n    <tr>\n      <th>...</th>\n      <td>...</td>\n      <td>...</td>\n      <td>...</td>\n      <td>...</td>\n      <td>...</td>\n      <td>...</td>\n      <td>...</td>\n    </tr>\n    <tr>\n      <th>195</th>\n      <td>0.569395</td>\n      <td>113.878944</td>\n      <td>0.665</td>\n      <td>-0.095605</td>\n      <td>-19.121058</td>\n      <td>0.095605</td>\n      <td>0.009140</td>\n    </tr>\n    <tr>\n      <th>196</th>\n      <td>0.727276</td>\n      <td>145.455170</td>\n      <td>0.645</td>\n      <td>0.082276</td>\n      <td>16.455170</td>\n      <td>0.082276</td>\n      <td>0.006769</td>\n    </tr>\n    <tr>\n      <th>197</th>\n      <td>0.779735</td>\n      <td>155.947021</td>\n      <td>0.835</td>\n      <td>-0.055265</td>\n      <td>-11.052982</td>\n      <td>0.055265</td>\n      <td>0.003054</td>\n    </tr>\n    <tr>\n      <th>198</th>\n      <td>0.765628</td>\n      <td>153.125534</td>\n      <td>0.675</td>\n      <td>0.090628</td>\n      <td>18.125536</td>\n      <td>0.090628</td>\n      <td>0.008213</td>\n    </tr>\n    <tr>\n      <th>199</th>\n      <td>0.624072</td>\n      <td>124.814392</td>\n      <td>0.590</td>\n      <td>0.034072</td>\n      <td>6.814391</td>\n      <td>0.034072</td>\n      <td>0.001161</td>\n    </tr>\n  </tbody>\n</table>\n<p>200 rows × 7 columns</p>\n</div>"
     },
     "execution_count": 11,
     "metadata": {},
     "output_type": "execute_result"
    }
   ],
   "source": [
    "unprocessed_results = unprocessed_model.predict(unprocessed_dataset)\n",
    "unprocessed_results_df = pd.DataFrame(unprocessed_results, columns=['Model ouput'])\n",
    "unprocessed_results_df['Output Age'] = unprocessed_results_df['Model ouput'] * 200\n",
    "unprocessed_results_df['Real Age'] = unprocessed_df['age'] / 200\n",
    "unprocessed_results_df['Error'] = unprocessed_results_df['Model ouput'] - unprocessed_results_df['Real Age']\n",
    "unprocessed_results_df['Error Months'] = unprocessed_results_df['Error'] * 200\n",
    "unprocessed_results_df['Absolute Error'] = unprocessed_results_df['Error'].abs()\n",
    "unprocessed_results_df['Squared Error'] = unprocessed_results_df['Error'] ** 2\n",
    "unprocessed_results_df"
   ],
   "metadata": {
    "collapsed": false
   }
  },
  {
   "cell_type": "code",
   "execution_count": 12,
   "outputs": [
    {
     "name": "stdout",
     "output_type": "stream",
     "text": [
      "Unprocessed Model:\n",
      "\tRMSE: 25.201613092162557\n",
      "\tMAE:  19.776304013729096\n"
     ]
    }
   ],
   "source": [
    "unprocessed_rmse = 200 * np.sqrt(np.mean((unprocessed_results_df['Squared Error'])))\n",
    "unprocessed_mae = np.mean(unprocessed_results_df['Absolute Error']) * 200\n",
    "print(f'Unprocessed Model:\\n'\n",
    "      f'\\tRMSE: {unprocessed_rmse}\\n'\n",
    "      f'\\tMAE:  {unprocessed_mae}')"
   ],
   "metadata": {
    "collapsed": false
   }
  },
  {
   "cell_type": "code",
   "execution_count": 13,
   "outputs": [],
   "source": [
    "processed_model = tf.keras.models.load_model('./models/base_fixed_50_epochs')"
   ],
   "metadata": {
    "collapsed": false
   }
  },
  {
   "cell_type": "code",
   "execution_count": 14,
   "outputs": [
    {
     "name": "stdout",
     "output_type": "stream",
     "text": [
      "7/7 [==============================] - 5s 349ms/step\n"
     ]
    },
    {
     "data": {
      "text/plain": "     Model ouput    ID  Output Age  Real Age     Error  Error Months  \\\n0       0.823742  4360  164.748459  0.844671 -0.020929     -4.185795   \n1       0.838921  4361  167.784149  0.848263 -0.009343     -1.868535   \n2       0.309167  4362   61.833382  0.366281 -0.057114    -11.422731   \n3       0.776587  4363  155.317337  0.764313  0.012273      2.454673   \n4       0.703953  4364  140.790588  0.677285  0.026668      5.333628   \n..           ...   ...         ...       ...       ...           ...   \n195     0.697188  4555  139.437698  0.667434  0.029755      5.950942   \n196     0.690979  4556  138.195724  0.646272  0.044706      8.941224   \n197     0.806363  4557  161.272568  0.838425 -0.032062     -6.412460   \n198     0.726242  4558  145.248413  0.679902  0.046341      9.268101   \n199     0.565056  4559  113.011108  0.591148 -0.026092     -5.218402   \n\n     Absolute Error  Squared Error  \n0          0.020929       0.000438  \n1          0.009343       0.000087  \n2          0.057114       0.003262  \n3          0.012273       0.000151  \n4          0.026668       0.000711  \n..              ...            ...  \n195        0.029755       0.000885  \n196        0.044706       0.001999  \n197        0.032062       0.001028  \n198        0.046341       0.002147  \n199        0.026092       0.000681  \n\n[200 rows x 8 columns]",
      "text/html": "<div>\n<style scoped>\n    .dataframe tbody tr th:only-of-type {\n        vertical-align: middle;\n    }\n\n    .dataframe tbody tr th {\n        vertical-align: top;\n    }\n\n    .dataframe thead th {\n        text-align: right;\n    }\n</style>\n<table border=\"1\" class=\"dataframe\">\n  <thead>\n    <tr style=\"text-align: right;\">\n      <th></th>\n      <th>Model ouput</th>\n      <th>ID</th>\n      <th>Output Age</th>\n      <th>Real Age</th>\n      <th>Error</th>\n      <th>Error Months</th>\n      <th>Absolute Error</th>\n      <th>Squared Error</th>\n    </tr>\n  </thead>\n  <tbody>\n    <tr>\n      <th>0</th>\n      <td>0.823742</td>\n      <td>4360</td>\n      <td>164.748459</td>\n      <td>0.844671</td>\n      <td>-0.020929</td>\n      <td>-4.185795</td>\n      <td>0.020929</td>\n      <td>0.000438</td>\n    </tr>\n    <tr>\n      <th>1</th>\n      <td>0.838921</td>\n      <td>4361</td>\n      <td>167.784149</td>\n      <td>0.848263</td>\n      <td>-0.009343</td>\n      <td>-1.868535</td>\n      <td>0.009343</td>\n      <td>0.000087</td>\n    </tr>\n    <tr>\n      <th>2</th>\n      <td>0.309167</td>\n      <td>4362</td>\n      <td>61.833382</td>\n      <td>0.366281</td>\n      <td>-0.057114</td>\n      <td>-11.422731</td>\n      <td>0.057114</td>\n      <td>0.003262</td>\n    </tr>\n    <tr>\n      <th>3</th>\n      <td>0.776587</td>\n      <td>4363</td>\n      <td>155.317337</td>\n      <td>0.764313</td>\n      <td>0.012273</td>\n      <td>2.454673</td>\n      <td>0.012273</td>\n      <td>0.000151</td>\n    </tr>\n    <tr>\n      <th>4</th>\n      <td>0.703953</td>\n      <td>4364</td>\n      <td>140.790588</td>\n      <td>0.677285</td>\n      <td>0.026668</td>\n      <td>5.333628</td>\n      <td>0.026668</td>\n      <td>0.000711</td>\n    </tr>\n    <tr>\n      <th>...</th>\n      <td>...</td>\n      <td>...</td>\n      <td>...</td>\n      <td>...</td>\n      <td>...</td>\n      <td>...</td>\n      <td>...</td>\n      <td>...</td>\n    </tr>\n    <tr>\n      <th>195</th>\n      <td>0.697188</td>\n      <td>4555</td>\n      <td>139.437698</td>\n      <td>0.667434</td>\n      <td>0.029755</td>\n      <td>5.950942</td>\n      <td>0.029755</td>\n      <td>0.000885</td>\n    </tr>\n    <tr>\n      <th>196</th>\n      <td>0.690979</td>\n      <td>4556</td>\n      <td>138.195724</td>\n      <td>0.646272</td>\n      <td>0.044706</td>\n      <td>8.941224</td>\n      <td>0.044706</td>\n      <td>0.001999</td>\n    </tr>\n    <tr>\n      <th>197</th>\n      <td>0.806363</td>\n      <td>4557</td>\n      <td>161.272568</td>\n      <td>0.838425</td>\n      <td>-0.032062</td>\n      <td>-6.412460</td>\n      <td>0.032062</td>\n      <td>0.001028</td>\n    </tr>\n    <tr>\n      <th>198</th>\n      <td>0.726242</td>\n      <td>4558</td>\n      <td>145.248413</td>\n      <td>0.679902</td>\n      <td>0.046341</td>\n      <td>9.268101</td>\n      <td>0.046341</td>\n      <td>0.002147</td>\n    </tr>\n    <tr>\n      <th>199</th>\n      <td>0.565056</td>\n      <td>4559</td>\n      <td>113.011108</td>\n      <td>0.591148</td>\n      <td>-0.026092</td>\n      <td>-5.218402</td>\n      <td>0.026092</td>\n      <td>0.000681</td>\n    </tr>\n  </tbody>\n</table>\n<p>200 rows × 8 columns</p>\n</div>"
     },
     "execution_count": 14,
     "metadata": {},
     "output_type": "execute_result"
    }
   ],
   "source": [
    "processed_results = processed_model.predict(processed_dataset)\n",
    "processed_results_df = pd.DataFrame(processed_results, columns=['Model ouput'])\n",
    "processed_results_df['ID'] = processed_df['Case ID']\n",
    "processed_results_df['Output Age'] = processed_results_df['Model ouput'] * 200\n",
    "processed_results_df['Real Age'] = processed_df['age'] / 200\n",
    "processed_results_df['Error'] = processed_results_df['Model ouput'] - processed_results_df['Real Age']\n",
    "processed_results_df['Error Months'] = processed_results_df['Error'] * 200\n",
    "processed_results_df['Absolute Error'] = processed_results_df['Error'].abs()\n",
    "processed_results_df['Squared Error'] = processed_results_df['Error'] ** 2\n",
    "processed_results_df"
   ],
   "metadata": {
    "collapsed": false
   }
  },
  {
   "cell_type": "code",
   "execution_count": 15,
   "outputs": [
    {
     "name": "stdout",
     "output_type": "stream",
     "text": [
      "Unprocessed Model:\n",
      "\tRMSE: 12.373001428541864\n",
      "\tMAE:  9.222783359710217\n"
     ]
    }
   ],
   "source": [
    "processed_rmse = 200 * np.sqrt(np.mean((processed_results_df['Squared Error'])))\n",
    "processed_mae = np.mean(processed_results_df['Absolute Error']) * 200\n",
    "print(f'Unprocessed Model:\\n'\n",
    "      f'\\tRMSE: {processed_rmse}\\n'\n",
    "      f'\\tMAE:  {processed_mae}')"
   ],
   "metadata": {
    "collapsed": false
   }
  },
  {
   "cell_type": "code",
   "execution_count": 16,
   "outputs": [],
   "source": [
    "features_model = tf.keras.models.load_model('./models/full_fixed_50_epochs')"
   ],
   "metadata": {
    "collapsed": false
   }
  },
  {
   "cell_type": "code",
   "execution_count": 25,
   "outputs": [
    {
     "name": "stdout",
     "output_type": "stream",
     "text": [
      "7/7 [==============================] - 5s 347ms/step\n"
     ]
    },
    {
     "data": {
      "text/plain": "     Model ouput    ID  Output Age  Real Age     Error  Error Months  \\\n0       0.785482  4360  157.096390  0.844671 -0.059189    -11.837863   \n1       0.673844  4361  134.768860  0.848263 -0.174419    -34.883810   \n2       0.267024  4362   53.404701  0.366281 -0.099257    -19.851412   \n3       0.699714  4363  139.942886  0.764313 -0.064599    -12.919785   \n4       0.705308  4364  141.061584  0.677285  0.028023      5.604638   \n..           ...   ...         ...       ...       ...           ...   \n195     0.703443  4555  140.688690  0.667434  0.036010      7.201936   \n196     0.639001  4556  127.800262  0.646272 -0.007271     -1.454231   \n197     0.754251  4557  150.850266  0.838425 -0.084174    -16.834761   \n198     0.728614  4558  145.722870  0.679902  0.048713      9.742554   \n199     0.576890  4559  115.377953  0.591148 -0.014258     -2.851561   \n\n     Absolute Error  Squared Error  \n0          0.059189       0.003503  \n1          0.174419       0.030422  \n2          0.099257       0.009852  \n3          0.064599       0.004173  \n4          0.028023       0.000785  \n..              ...            ...  \n195        0.036010       0.001297  \n196        0.007271       0.000053  \n197        0.084174       0.007085  \n198        0.048713       0.002373  \n199        0.014258       0.000203  \n\n[200 rows x 8 columns]",
      "text/html": "<div>\n<style scoped>\n    .dataframe tbody tr th:only-of-type {\n        vertical-align: middle;\n    }\n\n    .dataframe tbody tr th {\n        vertical-align: top;\n    }\n\n    .dataframe thead th {\n        text-align: right;\n    }\n</style>\n<table border=\"1\" class=\"dataframe\">\n  <thead>\n    <tr style=\"text-align: right;\">\n      <th></th>\n      <th>Model ouput</th>\n      <th>ID</th>\n      <th>Output Age</th>\n      <th>Real Age</th>\n      <th>Error</th>\n      <th>Error Months</th>\n      <th>Absolute Error</th>\n      <th>Squared Error</th>\n    </tr>\n  </thead>\n  <tbody>\n    <tr>\n      <th>0</th>\n      <td>0.785482</td>\n      <td>4360</td>\n      <td>157.096390</td>\n      <td>0.844671</td>\n      <td>-0.059189</td>\n      <td>-11.837863</td>\n      <td>0.059189</td>\n      <td>0.003503</td>\n    </tr>\n    <tr>\n      <th>1</th>\n      <td>0.673844</td>\n      <td>4361</td>\n      <td>134.768860</td>\n      <td>0.848263</td>\n      <td>-0.174419</td>\n      <td>-34.883810</td>\n      <td>0.174419</td>\n      <td>0.030422</td>\n    </tr>\n    <tr>\n      <th>2</th>\n      <td>0.267024</td>\n      <td>4362</td>\n      <td>53.404701</td>\n      <td>0.366281</td>\n      <td>-0.099257</td>\n      <td>-19.851412</td>\n      <td>0.099257</td>\n      <td>0.009852</td>\n    </tr>\n    <tr>\n      <th>3</th>\n      <td>0.699714</td>\n      <td>4363</td>\n      <td>139.942886</td>\n      <td>0.764313</td>\n      <td>-0.064599</td>\n      <td>-12.919785</td>\n      <td>0.064599</td>\n      <td>0.004173</td>\n    </tr>\n    <tr>\n      <th>4</th>\n      <td>0.705308</td>\n      <td>4364</td>\n      <td>141.061584</td>\n      <td>0.677285</td>\n      <td>0.028023</td>\n      <td>5.604638</td>\n      <td>0.028023</td>\n      <td>0.000785</td>\n    </tr>\n    <tr>\n      <th>...</th>\n      <td>...</td>\n      <td>...</td>\n      <td>...</td>\n      <td>...</td>\n      <td>...</td>\n      <td>...</td>\n      <td>...</td>\n      <td>...</td>\n    </tr>\n    <tr>\n      <th>195</th>\n      <td>0.703443</td>\n      <td>4555</td>\n      <td>140.688690</td>\n      <td>0.667434</td>\n      <td>0.036010</td>\n      <td>7.201936</td>\n      <td>0.036010</td>\n      <td>0.001297</td>\n    </tr>\n    <tr>\n      <th>196</th>\n      <td>0.639001</td>\n      <td>4556</td>\n      <td>127.800262</td>\n      <td>0.646272</td>\n      <td>-0.007271</td>\n      <td>-1.454231</td>\n      <td>0.007271</td>\n      <td>0.000053</td>\n    </tr>\n    <tr>\n      <th>197</th>\n      <td>0.754251</td>\n      <td>4557</td>\n      <td>150.850266</td>\n      <td>0.838425</td>\n      <td>-0.084174</td>\n      <td>-16.834761</td>\n      <td>0.084174</td>\n      <td>0.007085</td>\n    </tr>\n    <tr>\n      <th>198</th>\n      <td>0.728614</td>\n      <td>4558</td>\n      <td>145.722870</td>\n      <td>0.679902</td>\n      <td>0.048713</td>\n      <td>9.742554</td>\n      <td>0.048713</td>\n      <td>0.002373</td>\n    </tr>\n    <tr>\n      <th>199</th>\n      <td>0.576890</td>\n      <td>4559</td>\n      <td>115.377953</td>\n      <td>0.591148</td>\n      <td>-0.014258</td>\n      <td>-2.851561</td>\n      <td>0.014258</td>\n      <td>0.000203</td>\n    </tr>\n  </tbody>\n</table>\n<p>200 rows × 8 columns</p>\n</div>"
     },
     "execution_count": 25,
     "metadata": {},
     "output_type": "execute_result"
    }
   ],
   "source": [
    "features_results = features_model.predict(features_dataset)\n",
    "features_results_df = pd.DataFrame(features_results, columns=['Model ouput'])\n",
    "features_results_df['ID'] = processed_df['Case ID']\n",
    "features_results_df['Output Age'] = features_results_df['Model ouput'] * 200\n",
    "features_results_df['Real Age'] = processed_df['age'] / 200\n",
    "features_results_df['Error'] = features_results_df['Model ouput'] - features_results_df['Real Age']\n",
    "features_results_df['Error Months'] = features_results_df['Error'] * 200\n",
    "features_results_df['Absolute Error'] = features_results_df['Error'].abs()\n",
    "features_results_df['Squared Error'] = features_results_df['Error'] ** 2\n",
    "features_results_df"
   ],
   "metadata": {
    "collapsed": false
   }
  },
  {
   "cell_type": "code",
   "execution_count": 26,
   "outputs": [
    {
     "name": "stdout",
     "output_type": "stream",
     "text": [
      "Unprocessed Model:\n",
      "\tRMSE: 19.19494305743658\n",
      "\tMAE:  14.868095504827403\n"
     ]
    }
   ],
   "source": [
    "features_rmse = 200 * np.sqrt(np.mean((features_results_df['Squared Error'])))\n",
    "features_mae = np.mean(features_results_df['Absolute Error']) * 200\n",
    "print(f'Unprocessed Model:\\n'\n",
    "      f'\\tRMSE: {features_rmse}\\n'\n",
    "      f'\\tMAE:  {features_mae}')"
   ],
   "metadata": {
    "collapsed": false
   }
  },
  {
   "cell_type": "markdown",
   "source": [
    "### Result by age/gender"
   ],
   "metadata": {
    "collapsed": false
   }
  },
  {
   "cell_type": "code",
   "execution_count": null,
   "outputs": [],
   "source": [],
   "metadata": {
    "collapsed": false
   }
  }
 ],
 "metadata": {
  "kernelspec": {
   "display_name": "Python 3",
   "language": "python",
   "name": "python3"
  },
  "language_info": {
   "codemirror_mode": {
    "name": "ipython",
    "version": 2
   },
   "file_extension": ".py",
   "mimetype": "text/x-python",
   "name": "python",
   "nbconvert_exporter": "python",
   "pygments_lexer": "ipython2",
   "version": "2.7.6"
  }
 },
 "nbformat": 4,
 "nbformat_minor": 0
}
