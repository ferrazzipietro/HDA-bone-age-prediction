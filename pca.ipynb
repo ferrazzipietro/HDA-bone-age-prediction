{
 "cells": [
  {
   "cell_type": "code",
   "execution_count": null,
   "metadata": {},
   "outputs": [],
   "source": [
    "\n",
    "# idx = random.sample(range(0, len(age_train)), n_samples) \n",
    "# random_sample = list(itemgetter(*idx)(X_train))\n",
    "\n",
    "rotated_img = '/Users/pietroferrazzi/Desktop/uni/human_data/project/HDA-bone-age-prediction/data.nosync/train/images/1489.png'\n",
    "img =  load_image(rotated_img, IMG_SHAPE)\n",
    "print(img.shape)\n",
    "blue,green,red = (cv2.split(img))\n",
    "df_blue = blue/255\n",
    "df_green = green/255\n",
    "df_red = red/255\n",
    "\n",
    "pca_b = PCA(n_components=2)\n",
    "pca_b.fit(df_blue)\n",
    "trans_pca_b = pca_b.transform(df_blue)\n",
    "pca_g = PCA(n_components=2)\n",
    "pca_g.fit(df_green)\n",
    "trans_pca_g = pca_g.transform(df_green)\n",
    "pca_r = PCA(n_components=2)\n",
    "pca_r.fit(df_red)\n",
    "trans_pca_r = pca_r.transform(df_red)\n",
    "\n",
    "print(f\"Blue Channel : {sum(pca_b.explained_variance_ratio_)}\")\n",
    "print(f\"Green Channel: {sum(pca_g.explained_variance_ratio_)}\")\n",
    "print(f\"Red Channel  : {sum(pca_r.explained_variance_ratio_)}\")\n",
    "\n",
    "b_arr = pca_b.inverse_transform(trans_pca_b)\n",
    "g_arr = pca_g.inverse_transform(trans_pca_g)\n",
    "r_arr = pca_r.inverse_transform(trans_pca_r)\n",
    "\n",
    "img_reduced = (cv2.merge((b_arr, g_arr, r_arr)))\n",
    "\n",
    "fig = plt.figure(figsize = (10, 7.2)) \n",
    "fig.add_subplot(121)\n",
    "plt.title(\"Original Image\")\n",
    "plt.imshow(img)\n",
    "fig.add_subplot(122)\n",
    "plt.title(\"Reduced Image\")\n",
    "plt.imshow(img_reduced)\n",
    "plt.show()\n",
    "\n",
    "# selected_subset = X_train[0:20] # to be defined\n",
    "# data = []\n",
    "# for img_path in X_train:\n",
    "#     img = load_image(img_path, IMG_SHAPE)\n",
    "#     blue,green,red = cv2.split(img)\n",
    "#     df_blue = blue/255\n",
    "#     df_green = green/255\n",
    "#     df_red = red/255\n",
    "# df_blue.shape\n",
    "# pca = PCA(2) # we need 2 principal components.\n",
    "# converted_data = pca.fit_transform(data)\n",
    " \n",
    "# converted_data.shape"
   ]
  }
 ],
 "metadata": {
  "kernelspec": {
   "display_name": "Python 3",
   "language": "python",
   "name": "python3"
  },
  "language_info": {
   "name": "python",
   "version": "3.9.15"
  },
  "orig_nbformat": 4,
  "vscode": {
   "interpreter": {
    "hash": "b9db3788e2974bd95fa257b96bacb7dfacacd759b177ea4152980fb4b1650616"
   }
  }
 },
 "nbformat": 4,
 "nbformat_minor": 2
}
