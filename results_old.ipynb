{
 "cells": [
  {
   "cell_type": "code",
   "execution_count": 22,
   "outputs": [],
   "source": [
    "import os\n",
    "\n",
    "import tensorflow as tf\n",
    "\n",
    "import pandas as pd\n",
    "import numpy as np"
   ],
   "metadata": {
    "collapsed": false
   }
  },
  {
   "cell_type": "code",
   "execution_count": 5,
   "outputs": [],
   "source": [
    "def data_append(X, ages, sexes, image_path, age, sex):\n",
    "    X.append(image_path)\n",
    "    ages.append(age)\n",
    "    sexes.append(sex)\n",
    "    return X, ages, sexes"
   ],
   "metadata": {
    "collapsed": false
   }
  },
  {
   "cell_type": "code",
   "execution_count": 6,
   "outputs": [],
   "source": [
    "def load_dataset(full_path, truth):\n",
    "    X_test = []\n",
    "    age_test = []\n",
    "    sex_test = []\n",
    "\n",
    "    image_names = os.listdir(full_path)\n",
    "    for i, image_name in enumerate(image_names):\n",
    "        if not image_name.endswith('.png'):\n",
    "            continue\n",
    "\n",
    "        id = int(image_name[:-4])\n",
    "\n",
    "        if not (id in truth['Case ID'].to_list()):\n",
    "            continue\n",
    "        idx = (truth['Case ID'] == id)\n",
    "        age_of_this = int(truth['Ground truth bone age (months)'][idx])\n",
    "        sex_of_this = (truth['Sex'][idx]).values[0]\n",
    "        if sex_of_this=='M':\n",
    "            sex_of_this = True\n",
    "        if  sex_of_this=='F':\n",
    "            sex_of_this = False\n",
    "        X_test, age_test, sex_test = data_append(X_test, age_test, sex_test, os.path.join(full_path, image_name), age_of_this, sex_of_this)\n",
    "\n",
    "    return X_test, age_test, sex_test"
   ],
   "metadata": {
    "collapsed": false
   }
  },
  {
   "cell_type": "code",
   "execution_count": 14,
   "outputs": [],
   "source": [
    "unprocessed_path = os.path.join(os.getcwd(), 'data/test/cut')\n",
    "processed_path = os.path.join(os.getcwd(), 'data/test/reshaped')\n",
    "test_truth = pd.read_excel('./data/test/test.xlsx')\n",
    "X_unprocessed, age_unprocessed, sex_unprocessed = load_dataset(unprocessed_path, test_truth)\n",
    "X_processed, age_processed, sex_processed = load_dataset(processed_path, test_truth)\n",
    "\n",
    "test_features = pd.read_csv('./data/test/maxes.csv')\n",
    "test_features['image'] = test_features['image'].str[:-4].astype(int)\n",
    "\n",
    "unprocessed_df = pd.DataFrame({'age':age_unprocessed, 'sex':sex_unprocessed})\n",
    "processed_df = pd.merge(test_features, test_truth, left_on='image', right_on='Case ID')\n",
    "processed_df = processed_df.drop(['Case ID', 'image', 'Ground truth bone age (months)'],\n",
    "                                                   axis=1).rename({'Sex': 'sex'}, axis=1)\n",
    "processed_df['sex'] = processed_df['sex'].replace({'M': 1, 'F': 0})"
   ],
   "metadata": {
    "collapsed": false
   }
  },
  {
   "cell_type": "code",
   "execution_count": 16,
   "outputs": [],
   "source": [
    "def process_image(path_df, label):\n",
    "    path, df = path_df\n",
    "    # Get the image\n",
    "    img = tf.io.read_file(path)\n",
    "    # Decode the PNG\n",
    "    img = tf.image.decode_png(img)\n",
    "    # Cast image to float32\n",
    "    img = tf.cast(img, tf.float32)\n",
    "    # Normalize image\n",
    "    img = img / 255.0\n",
    "\n",
    "    return (img, df), label"
   ],
   "metadata": {
    "collapsed": false
   }
  },
  {
   "cell_type": "code",
   "execution_count": 17,
   "outputs": [],
   "source": [
    "def create_dataset_images(img_paths, second_branch_df, ages, batch_size):\n",
    "    second_branch_df = second_branch_df.astype('float32')\n",
    "    dataset = tf.data.Dataset.from_tensor_slices(((img_paths, second_branch_df), ages)).map(process_image)\n",
    "\n",
    "    dataset = dataset.batch(batch_size=batch_size)\n",
    "    dataset = dataset.prefetch(buffer_size=1)\n",
    "\n",
    "    return dataset"
   ],
   "metadata": {
    "collapsed": false
   }
  },
  {
   "cell_type": "code",
   "execution_count": null,
   "outputs": [],
   "source": [],
   "metadata": {
    "collapsed": false
   }
  },
  {
   "cell_type": "code",
   "execution_count": 37,
   "outputs": [
    {
     "ename": "KeyError",
     "evalue": "'age'",
     "output_type": "error",
     "traceback": [
      "\u001B[1;31m---------------------------------------------------------------------------\u001B[0m",
      "\u001B[1;31mKeyError\u001B[0m                                  Traceback (most recent call last)",
      "File \u001B[1;32m~\\Dev\\anaconda3\\envs\\tf\\lib\\site-packages\\pandas\\core\\indexes\\base.py:3802\u001B[0m, in \u001B[0;36mIndex.get_loc\u001B[1;34m(self, key, method, tolerance)\u001B[0m\n\u001B[0;32m   3801\u001B[0m \u001B[38;5;28;01mtry\u001B[39;00m:\n\u001B[1;32m-> 3802\u001B[0m     \u001B[38;5;28;01mreturn\u001B[39;00m \u001B[38;5;28;43mself\u001B[39;49m\u001B[38;5;241;43m.\u001B[39;49m\u001B[43m_engine\u001B[49m\u001B[38;5;241;43m.\u001B[39;49m\u001B[43mget_loc\u001B[49m\u001B[43m(\u001B[49m\u001B[43mcasted_key\u001B[49m\u001B[43m)\u001B[49m\n\u001B[0;32m   3803\u001B[0m \u001B[38;5;28;01mexcept\u001B[39;00m \u001B[38;5;167;01mKeyError\u001B[39;00m \u001B[38;5;28;01mas\u001B[39;00m err:\n",
      "File \u001B[1;32m~\\Dev\\anaconda3\\envs\\tf\\lib\\site-packages\\pandas\\_libs\\index.pyx:138\u001B[0m, in \u001B[0;36mpandas._libs.index.IndexEngine.get_loc\u001B[1;34m()\u001B[0m\n",
      "File \u001B[1;32m~\\Dev\\anaconda3\\envs\\tf\\lib\\site-packages\\pandas\\_libs\\index.pyx:165\u001B[0m, in \u001B[0;36mpandas._libs.index.IndexEngine.get_loc\u001B[1;34m()\u001B[0m\n",
      "File \u001B[1;32mpandas\\_libs\\hashtable_class_helper.pxi:5745\u001B[0m, in \u001B[0;36mpandas._libs.hashtable.PyObjectHashTable.get_item\u001B[1;34m()\u001B[0m\n",
      "File \u001B[1;32mpandas\\_libs\\hashtable_class_helper.pxi:5753\u001B[0m, in \u001B[0;36mpandas._libs.hashtable.PyObjectHashTable.get_item\u001B[1;34m()\u001B[0m\n",
      "\u001B[1;31mKeyError\u001B[0m: 'age'",
      "\nThe above exception was the direct cause of the following exception:\n",
      "\u001B[1;31mKeyError\u001B[0m                                  Traceback (most recent call last)",
      "Cell \u001B[1;32mIn[37], line 8\u001B[0m\n\u001B[0;32m      1\u001B[0m batch_size \u001B[38;5;241m=\u001B[39m \u001B[38;5;241m32\u001B[39m\n\u001B[0;32m      2\u001B[0m unprocessed_dataset \u001B[38;5;241m=\u001B[39m create_dataset_images(img_paths\u001B[38;5;241m=\u001B[39mX_unprocessed,\n\u001B[0;32m      3\u001B[0m                                      second_branch_df\u001B[38;5;241m=\u001B[39munprocessed_df[\u001B[38;5;124m'\u001B[39m\u001B[38;5;124msex\u001B[39m\u001B[38;5;124m'\u001B[39m],\n\u001B[0;32m      4\u001B[0m                                      ages\u001B[38;5;241m=\u001B[39munprocessed_df[\u001B[38;5;124m'\u001B[39m\u001B[38;5;124mage\u001B[39m\u001B[38;5;124m'\u001B[39m],\n\u001B[0;32m      5\u001B[0m                                      batch_size\u001B[38;5;241m=\u001B[39mbatch_size)\n\u001B[0;32m      6\u001B[0m processed_dataset \u001B[38;5;241m=\u001B[39m create_dataset_images(img_paths\u001B[38;5;241m=\u001B[39mX_processed,\n\u001B[0;32m      7\u001B[0m                                           second_branch_df\u001B[38;5;241m=\u001B[39mprocessed_df[\u001B[38;5;124m'\u001B[39m\u001B[38;5;124msex\u001B[39m\u001B[38;5;124m'\u001B[39m],\n\u001B[1;32m----> 8\u001B[0m                                           ages\u001B[38;5;241m=\u001B[39m\u001B[43mprocessed_df\u001B[49m\u001B[43m[\u001B[49m\u001B[38;5;124;43m'\u001B[39;49m\u001B[38;5;124;43mage\u001B[39;49m\u001B[38;5;124;43m'\u001B[39;49m\u001B[43m]\u001B[49m,\n\u001B[0;32m      9\u001B[0m                                           batch_size\u001B[38;5;241m=\u001B[39mbatch_size)\n",
      "File \u001B[1;32m~\\Dev\\anaconda3\\envs\\tf\\lib\\site-packages\\pandas\\core\\frame.py:3807\u001B[0m, in \u001B[0;36mDataFrame.__getitem__\u001B[1;34m(self, key)\u001B[0m\n\u001B[0;32m   3805\u001B[0m \u001B[38;5;28;01mif\u001B[39;00m \u001B[38;5;28mself\u001B[39m\u001B[38;5;241m.\u001B[39mcolumns\u001B[38;5;241m.\u001B[39mnlevels \u001B[38;5;241m>\u001B[39m \u001B[38;5;241m1\u001B[39m:\n\u001B[0;32m   3806\u001B[0m     \u001B[38;5;28;01mreturn\u001B[39;00m \u001B[38;5;28mself\u001B[39m\u001B[38;5;241m.\u001B[39m_getitem_multilevel(key)\n\u001B[1;32m-> 3807\u001B[0m indexer \u001B[38;5;241m=\u001B[39m \u001B[38;5;28;43mself\u001B[39;49m\u001B[38;5;241;43m.\u001B[39;49m\u001B[43mcolumns\u001B[49m\u001B[38;5;241;43m.\u001B[39;49m\u001B[43mget_loc\u001B[49m\u001B[43m(\u001B[49m\u001B[43mkey\u001B[49m\u001B[43m)\u001B[49m\n\u001B[0;32m   3808\u001B[0m \u001B[38;5;28;01mif\u001B[39;00m is_integer(indexer):\n\u001B[0;32m   3809\u001B[0m     indexer \u001B[38;5;241m=\u001B[39m [indexer]\n",
      "File \u001B[1;32m~\\Dev\\anaconda3\\envs\\tf\\lib\\site-packages\\pandas\\core\\indexes\\base.py:3804\u001B[0m, in \u001B[0;36mIndex.get_loc\u001B[1;34m(self, key, method, tolerance)\u001B[0m\n\u001B[0;32m   3802\u001B[0m     \u001B[38;5;28;01mreturn\u001B[39;00m \u001B[38;5;28mself\u001B[39m\u001B[38;5;241m.\u001B[39m_engine\u001B[38;5;241m.\u001B[39mget_loc(casted_key)\n\u001B[0;32m   3803\u001B[0m \u001B[38;5;28;01mexcept\u001B[39;00m \u001B[38;5;167;01mKeyError\u001B[39;00m \u001B[38;5;28;01mas\u001B[39;00m err:\n\u001B[1;32m-> 3804\u001B[0m     \u001B[38;5;28;01mraise\u001B[39;00m \u001B[38;5;167;01mKeyError\u001B[39;00m(key) \u001B[38;5;28;01mfrom\u001B[39;00m \u001B[38;5;21;01merr\u001B[39;00m\n\u001B[0;32m   3805\u001B[0m \u001B[38;5;28;01mexcept\u001B[39;00m \u001B[38;5;167;01mTypeError\u001B[39;00m:\n\u001B[0;32m   3806\u001B[0m     \u001B[38;5;66;03m# If we have a listlike key, _check_indexing_error will raise\u001B[39;00m\n\u001B[0;32m   3807\u001B[0m     \u001B[38;5;66;03m#  InvalidIndexError. Otherwise we fall through and re-raise\u001B[39;00m\n\u001B[0;32m   3808\u001B[0m     \u001B[38;5;66;03m#  the TypeError.\u001B[39;00m\n\u001B[0;32m   3809\u001B[0m     \u001B[38;5;28mself\u001B[39m\u001B[38;5;241m.\u001B[39m_check_indexing_error(key)\n",
      "\u001B[1;31mKeyError\u001B[0m: 'age'"
     ]
    }
   ],
   "source": [
    "batch_size = 32\n",
    "unprocessed_dataset = create_dataset_images(img_paths=X_unprocessed,\n",
    "                                     second_branch_df=unprocessed_df['sex'],\n",
    "                                     ages=unprocessed_df['age'],\n",
    "                                     batch_size=batch_size)\n",
    "processed_dataset = create_dataset_images(img_paths=X_processed,\n",
    "                                          second_branch_df=processed_df['sex'],\n",
    "                                          ages=processed_df['age'],\n",
    "                                          batch_size=batch_size)"
   ],
   "metadata": {
    "collapsed": false
   }
  },
  {
   "cell_type": "code",
   "execution_count": 19,
   "metadata": {
    "collapsed": true
   },
   "outputs": [],
   "source": [
    "unprocessed_model = tf.keras.models.load_model('./models/unprocessed_50_epochs')"
   ]
  },
  {
   "cell_type": "code",
   "execution_count": 25,
   "outputs": [
    {
     "name": "stdout",
     "output_type": "stream",
     "text": [
      "7/7 [==============================] - 4s 619ms/step\n"
     ]
    },
    {
     "data": {
      "text/plain": "     Model ouput  Output Age  Real Age     Error  Error Months  \\\n0       0.722045  144.408936     0.840 -0.117955    -23.591059   \n1       0.830717  166.143387     0.845 -0.014283     -2.856606   \n2       0.242140   48.427952     0.365 -0.122860    -24.572049   \n3       0.589275  117.854942     0.760 -0.170725    -34.145059   \n4       0.610914  122.182755     0.675 -0.064086    -12.817249   \n..           ...         ...       ...       ...           ...   \n195     0.569395  113.878944     0.665 -0.095605    -19.121058   \n196     0.727276  145.455170     0.645  0.082276     16.455170   \n197     0.779735  155.947021     0.835 -0.055265    -11.052982   \n198     0.765628  153.125534     0.675  0.090628     18.125536   \n199     0.624072  124.814392     0.590  0.034072      6.814391   \n\n     Absolute Error  Squared Error  \n0          0.117955       0.013913  \n1          0.014283       0.000204  \n2          0.122860       0.015095  \n3          0.170725       0.029147  \n4          0.064086       0.004107  \n..              ...            ...  \n195        0.095605       0.009140  \n196        0.082276       0.006769  \n197        0.055265       0.003054  \n198        0.090628       0.008213  \n199        0.034072       0.001161  \n\n[200 rows x 7 columns]",
      "text/html": "<div>\n<style scoped>\n    .dataframe tbody tr th:only-of-type {\n        vertical-align: middle;\n    }\n\n    .dataframe tbody tr th {\n        vertical-align: top;\n    }\n\n    .dataframe thead th {\n        text-align: right;\n    }\n</style>\n<table border=\"1\" class=\"dataframe\">\n  <thead>\n    <tr style=\"text-align: right;\">\n      <th></th>\n      <th>Model ouput</th>\n      <th>Output Age</th>\n      <th>Real Age</th>\n      <th>Error</th>\n      <th>Error Months</th>\n      <th>Absolute Error</th>\n      <th>Squared Error</th>\n    </tr>\n  </thead>\n  <tbody>\n    <tr>\n      <th>0</th>\n      <td>0.722045</td>\n      <td>144.408936</td>\n      <td>0.840</td>\n      <td>-0.117955</td>\n      <td>-23.591059</td>\n      <td>0.117955</td>\n      <td>0.013913</td>\n    </tr>\n    <tr>\n      <th>1</th>\n      <td>0.830717</td>\n      <td>166.143387</td>\n      <td>0.845</td>\n      <td>-0.014283</td>\n      <td>-2.856606</td>\n      <td>0.014283</td>\n      <td>0.000204</td>\n    </tr>\n    <tr>\n      <th>2</th>\n      <td>0.242140</td>\n      <td>48.427952</td>\n      <td>0.365</td>\n      <td>-0.122860</td>\n      <td>-24.572049</td>\n      <td>0.122860</td>\n      <td>0.015095</td>\n    </tr>\n    <tr>\n      <th>3</th>\n      <td>0.589275</td>\n      <td>117.854942</td>\n      <td>0.760</td>\n      <td>-0.170725</td>\n      <td>-34.145059</td>\n      <td>0.170725</td>\n      <td>0.029147</td>\n    </tr>\n    <tr>\n      <th>4</th>\n      <td>0.610914</td>\n      <td>122.182755</td>\n      <td>0.675</td>\n      <td>-0.064086</td>\n      <td>-12.817249</td>\n      <td>0.064086</td>\n      <td>0.004107</td>\n    </tr>\n    <tr>\n      <th>...</th>\n      <td>...</td>\n      <td>...</td>\n      <td>...</td>\n      <td>...</td>\n      <td>...</td>\n      <td>...</td>\n      <td>...</td>\n    </tr>\n    <tr>\n      <th>195</th>\n      <td>0.569395</td>\n      <td>113.878944</td>\n      <td>0.665</td>\n      <td>-0.095605</td>\n      <td>-19.121058</td>\n      <td>0.095605</td>\n      <td>0.009140</td>\n    </tr>\n    <tr>\n      <th>196</th>\n      <td>0.727276</td>\n      <td>145.455170</td>\n      <td>0.645</td>\n      <td>0.082276</td>\n      <td>16.455170</td>\n      <td>0.082276</td>\n      <td>0.006769</td>\n    </tr>\n    <tr>\n      <th>197</th>\n      <td>0.779735</td>\n      <td>155.947021</td>\n      <td>0.835</td>\n      <td>-0.055265</td>\n      <td>-11.052982</td>\n      <td>0.055265</td>\n      <td>0.003054</td>\n    </tr>\n    <tr>\n      <th>198</th>\n      <td>0.765628</td>\n      <td>153.125534</td>\n      <td>0.675</td>\n      <td>0.090628</td>\n      <td>18.125536</td>\n      <td>0.090628</td>\n      <td>0.008213</td>\n    </tr>\n    <tr>\n      <th>199</th>\n      <td>0.624072</td>\n      <td>124.814392</td>\n      <td>0.590</td>\n      <td>0.034072</td>\n      <td>6.814391</td>\n      <td>0.034072</td>\n      <td>0.001161</td>\n    </tr>\n  </tbody>\n</table>\n<p>200 rows × 7 columns</p>\n</div>"
     },
     "execution_count": 25,
     "metadata": {},
     "output_type": "execute_result"
    }
   ],
   "source": [
    "unprocessed_results = unprocessed_model.predict(unprocessed_dataset)\n",
    "unprocessed_results_df = pd.DataFrame(unprocessed_results, columns=['Model ouput'])\n",
    "unprocessed_results_df['Output Age'] = unprocessed_results_df['Model ouput'] * 200\n",
    "unprocessed_results_df['Real Age'] = unprocessed_df['age'] / 200\n",
    "unprocessed_results_df['Error'] = unprocessed_results_df['Model ouput'] - unprocessed_results_df['Real Age']\n",
    "unprocessed_results_df['Error Months'] = unprocessed_results_df['Error'] * 200\n",
    "unprocessed_results_df['Absolute Error'] = unprocessed_results_df['Error'].abs()\n",
    "unprocessed_results_df['Squared Error'] = unprocessed_results_df['Error'] ** 2\n",
    "unprocessed_results_df"
   ],
   "metadata": {
    "collapsed": false
   }
  },
  {
   "cell_type": "code",
   "execution_count": 35,
   "outputs": [
    {
     "name": "stdout",
     "output_type": "stream",
     "text": [
      "Unprocessed Model:\n",
      "\tRMSE: 25.201630342190374\n",
      "\tMAE:  19.776293731927872\n"
     ]
    }
   ],
   "source": [
    "unprocessed_rmse = 200 * np.sqrt(np.mean((unprocessed_results_df['Squared Error'])))\n",
    "unprocessed_mae = np.mean(unprocessed_results_df['Absolute Error']) * 200\n",
    "print(f'Unprocessed Model:\\n'\n",
    "      f'\\tRMSE: {unprocessed_rmse}\\n'\n",
    "      f'\\tMAE:  {unprocessed_mae}')"
   ],
   "metadata": {
    "collapsed": false
   }
  },
  {
   "cell_type": "code",
   "execution_count": 36,
   "outputs": [],
   "source": [
    "base_model = tf.keras.models.load_model('./models/base_50_epochs')"
   ],
   "metadata": {
    "collapsed": false
   }
  },
  {
   "cell_type": "code",
   "execution_count": null,
   "outputs": [],
   "source": [
    "base_results = base_model.predict(processed_dataset)\n",
    "base_results_df = pd.DataFrame(base_results, columns=['Model ouput'])\n",
    "base_results_df['Output Age'] = base_results_df['Model ouput'] * 200\n",
    "base_results_df['Real Age'] = processed_df['age'] / 200\n",
    "base_results_df['Error'] = base_results_df['Model ouput'] - base_results_df['Real Age']\n",
    "base_results_df['Error Months'] = base_results_df['Error'] * 200\n",
    "base_results_df['Absolute Error'] = base_results_df['Error'].abs()\n",
    "base_results_df['Squared Error'] = base_results_df['Error'] ** 2\n",
    "base_results_df"
   ],
   "metadata": {
    "collapsed": false
   }
  }
 ],
 "metadata": {
  "kernelspec": {
   "display_name": "Python 3",
   "language": "python",
   "name": "python3"
  },
  "language_info": {
   "codemirror_mode": {
    "name": "ipython",
    "version": 2
   },
   "file_extension": ".py",
   "mimetype": "text/x-python",
   "name": "python",
   "nbconvert_exporter": "python",
   "pygments_lexer": "ipython2",
   "version": "2.7.6"
  }
 },
 "nbformat": 4,
 "nbformat_minor": 0
}
